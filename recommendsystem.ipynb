{
 "cells": [
  {
   "cell_type": "code",
   "execution_count": 11,
   "metadata": {},
   "outputs": [],
   "source": [
    "import pandas as pd\n",
    "import numpy as np\n",
    "from numpy import dot\n",
    "from numpy.linalg import norm\n",
    "from sklearn.metrics.pairwise import cosine_similarity"
   ]
  },
  {
   "cell_type": "code",
   "execution_count": 12,
   "metadata": {},
   "outputs": [],
   "source": [
    "navertoon = pd.read_csv(\"NaverToonInfo_tag.csv\")\n",
    "navertoon = navertoon.fillna('성인웹툰')\n",
    "navertoon['total'] = navertoon['스토리작가']+','+navertoon['형식']+','+navertoon['장르']+','+navertoon['이용가']+','+navertoon['태그']"
   ]
  },
  {
   "cell_type": "code",
   "execution_count": 13,
   "metadata": {},
   "outputs": [
    {
     "data": {
      "text/plain": [
       "'이동건,에피소드,로맨스,12세 이용가,드라마&영화 원작웹툰,로맨스,완결로맨스'"
      ]
     },
     "execution_count": 13,
     "metadata": {},
     "output_type": "execute_result"
    }
   ],
   "source": [
    "navertoon_df = navertoon[['제목','평점','스토리작가','형식',\n",
    "                          '장르','이용가','조회순','total']]\n",
    "\n",
    "navertoon_df['total'][0]"
   ]
  },
  {
   "cell_type": "code",
   "execution_count": 14,
   "metadata": {},
   "outputs": [],
   "source": [
    "from sklearn.feature_extraction.text import CountVectorizer\n",
    "\n",
    "def find_sim_toon_ver1(navertoon_df, sorted_ind, title_name, top_n=10):\n",
    "    \n",
    "    title_toon = navertoon_df[navertoon_df['제목'] == title_name]\n",
    "    \n",
    "    title_index = title_toon.index.values\n",
    "    similar_indexes = sorted_ind[title_index, :(top_n)]\n",
    "    \n",
    "    print(similar_indexes)    \n",
    "    \n",
    "    similar_indexes = similar_indexes.reshape(-1)\n",
    "\n",
    "    return navertoon_df.iloc[similar_indexes].sort_values('조회순',ascending=True)[:10]"
   ]
  },
  {
   "cell_type": "code",
   "execution_count": 15,
   "metadata": {},
   "outputs": [
    {
     "name": "stdout",
     "output_type": "stream",
     "text": [
      "(1383, 1383)\n",
      "[[1.         0.25031309 0.14285714 ... 0.36313652 0.         0.12104551]\n",
      " [0.25031309 1.         0.05006262 ... 0.57265629 0.12725695 0.12725695]\n",
      " [0.14285714 0.05006262 1.         ... 0.06052275 0.06052275 0.06052275]\n",
      " ...\n",
      " [0.05634362 0.05923489 0.11268723 ... 0.07161149 0.07161149 0.07161149]\n",
      " [0.12104551 0.12725695 0.06052275 ... 0.15384615 0.15384615 0.84615385]\n",
      " [0.22537447 0.05923489 0.11268723 ... 0.07161149 0.07161149 0.5728919 ]]\n"
     ]
    }
   ],
   "source": [
    "count_vect = CountVectorizer(min_df=0, ngram_range=(1, 2))\n",
    "genre_mat = count_vect.fit_transform(navertoon_df['total'])\n",
    "\n",
    "\n",
    "genre_sim = cosine_similarity(genre_mat, genre_mat)\n",
    "\n",
    "print(genre_sim.shape)\n",
    "print(genre_sim[:10])"
   ]
  },
  {
   "cell_type": "code",
   "execution_count": 16,
   "metadata": {},
   "outputs": [
    {
     "name": "stdout",
     "output_type": "stream",
     "text": [
      "[[   0  321  623 ... 1264 1265  395]\n",
      " [   1  131  249 ...  154  855  190]\n",
      " [   2   65  292 ...  240 1158  898]\n",
      " [   3  691  353 ...  361  765  135]\n",
      " [   4  882  543 ...  130 1250 1035]]\n"
     ]
    }
   ],
   "source": [
    "genre_sim_sorted_ind = genre_sim.argsort()[:, ::-1]\n",
    "print(genre_sim_sorted_ind[:5])"
   ]
  },
  {
   "cell_type": "code",
   "execution_count": 17,
   "metadata": {},
   "outputs": [
    {
     "name": "stdout",
     "output_type": "stream",
     "text": [
      "[[   2   65  292  149   20    3 1013  831  790 1152]]\n"
     ]
    }
   ],
   "source": [
    "title_toon = navertoon_df[navertoon_df['제목'] == '신의 탑']\n",
    "title_index = title_toon.index.values\n",
    "similar_indexes = genre_sim_sorted_ind[title_index, :10]\n",
    "\n",
    "\n",
    "print(similar_indexes)"
   ]
  },
  {
   "cell_type": "code",
   "execution_count": 18,
   "metadata": {},
   "outputs": [
    {
     "name": "stdout",
     "output_type": "stream",
     "text": [
      "[[   2   65  292  149   20    3 1013  831  790 1152]]\n"
     ]
    },
    {
     "data": {
      "text/html": [
       "<div>\n",
       "<style scoped>\n",
       "    .dataframe tbody tr th:only-of-type {\n",
       "        vertical-align: middle;\n",
       "    }\n",
       "\n",
       "    .dataframe tbody tr th {\n",
       "        vertical-align: top;\n",
       "    }\n",
       "\n",
       "    .dataframe thead th {\n",
       "        text-align: right;\n",
       "    }\n",
       "</style>\n",
       "<table border=\"1\" class=\"dataframe\">\n",
       "  <thead>\n",
       "    <tr style=\"text-align: right;\">\n",
       "      <th></th>\n",
       "      <th>제목</th>\n",
       "      <th>평점</th>\n",
       "      <th>조회순</th>\n",
       "      <th>total</th>\n",
       "    </tr>\n",
       "  </thead>\n",
       "  <tbody>\n",
       "    <tr>\n",
       "      <th>2</th>\n",
       "      <td>신의 탑</td>\n",
       "      <td>9.89</td>\n",
       "      <td>3</td>\n",
       "      <td>SIU,스토리,판타지,12세 이용가,세계관,이능력배틀물,소년왕도물,먼치킨,판타지</td>\n",
       "    </tr>\n",
       "    <tr>\n",
       "      <th>3</th>\n",
       "      <td>갓 오브 하이스쿨</td>\n",
       "      <td>9.64</td>\n",
       "      <td>4</td>\n",
       "      <td>박용제,스토리,판타지,12세 이용가,이능력배틀물,먼치킨,판타지,완결무료,완결판타지</td>\n",
       "    </tr>\n",
       "    <tr>\n",
       "      <th>20</th>\n",
       "      <td>노블레스</td>\n",
       "      <td>9.62</td>\n",
       "      <td>21</td>\n",
       "      <td>손제호,스토리,판타지,12세 이용가,먼치킨,판타지,완결판타지</td>\n",
       "    </tr>\n",
       "    <tr>\n",
       "      <th>65</th>\n",
       "      <td>나노리스트</td>\n",
       "      <td>9.98</td>\n",
       "      <td>66</td>\n",
       "      <td>민송아,스토리,판타지,12세 이용가,먼치킨,판타지,완결판타지</td>\n",
       "    </tr>\n",
       "    <tr>\n",
       "      <th>149</th>\n",
       "      <td>레사 시즌2~3</td>\n",
       "      <td>9.97</td>\n",
       "      <td>150</td>\n",
       "      <td>POGO,스토리,판타지,12세 이용가,먼치킨,판타지,완결판타지</td>\n",
       "    </tr>\n",
       "    <tr>\n",
       "      <th>292</th>\n",
       "      <td>레사 시즌1</td>\n",
       "      <td>9.95</td>\n",
       "      <td>293</td>\n",
       "      <td>POGO,스토리,판타지,12세 이용가,먼치킨,판타지,완결판타지</td>\n",
       "    </tr>\n",
       "    <tr>\n",
       "      <th>790</th>\n",
       "      <td>아이레</td>\n",
       "      <td>9.83</td>\n",
       "      <td>791</td>\n",
       "      <td>설이,스토리,판타지,12세 이용가,판타지</td>\n",
       "    </tr>\n",
       "    <tr>\n",
       "      <th>831</th>\n",
       "      <td>블랙시저스</td>\n",
       "      <td>9.95</td>\n",
       "      <td>832</td>\n",
       "      <td>유령,스토리,판타지,12세 이용가,판타지</td>\n",
       "    </tr>\n",
       "    <tr>\n",
       "      <th>1013</th>\n",
       "      <td>길티액스</td>\n",
       "      <td>9.57</td>\n",
       "      <td>1014</td>\n",
       "      <td>정샛별,스토리,판타지,12세 이용가,판타지</td>\n",
       "    </tr>\n",
       "    <tr>\n",
       "      <th>1152</th>\n",
       "      <td>멸망X초이스</td>\n",
       "      <td>9.83</td>\n",
       "      <td>1153</td>\n",
       "      <td>텐,스토리,판타지,12세 이용가,판타지,완결판타지</td>\n",
       "    </tr>\n",
       "  </tbody>\n",
       "</table>\n",
       "</div>"
      ],
      "text/plain": [
       "             제목    평점   조회순                                          total\n",
       "2          신의 탑  9.89     3   SIU,스토리,판타지,12세 이용가,세계관,이능력배틀물,소년왕도물,먼치킨,판타지\n",
       "3     갓 오브 하이스쿨  9.64     4  박용제,스토리,판타지,12세 이용가,이능력배틀물,먼치킨,판타지,완결무료,완결판타지\n",
       "20         노블레스  9.62    21              손제호,스토리,판타지,12세 이용가,먼치킨,판타지,완결판타지\n",
       "65        나노리스트  9.98    66              민송아,스토리,판타지,12세 이용가,먼치킨,판타지,완결판타지\n",
       "149    레사 시즌2~3  9.97   150             POGO,스토리,판타지,12세 이용가,먼치킨,판타지,완결판타지\n",
       "292      레사 시즌1  9.95   293             POGO,스토리,판타지,12세 이용가,먼치킨,판타지,완결판타지\n",
       "790         아이레  9.83   791                         설이,스토리,판타지,12세 이용가,판타지\n",
       "831       블랙시저스  9.95   832                         유령,스토리,판타지,12세 이용가,판타지\n",
       "1013       길티액스  9.57  1014                        정샛별,스토리,판타지,12세 이용가,판타지\n",
       "1152     멸망X초이스  9.83  1153                    텐,스토리,판타지,12세 이용가,판타지,완결판타지"
      ]
     },
     "execution_count": 18,
     "metadata": {},
     "output_type": "execute_result"
    }
   ],
   "source": [
    "similar_toon = find_sim_toon_ver1(navertoon_df, genre_sim_sorted_ind, '신의 탑', 10)\n",
    "similar_toon[['제목', '평점', '조회순', 'total']]"
   ]
  },
  {
   "cell_type": "code",
   "execution_count": null,
   "metadata": {},
   "outputs": [],
   "source": []
  }
 ],
 "metadata": {
  "kernelspec": {
   "display_name": "my_python_",
   "language": "python",
   "name": "my_python_env"
  },
  "language_info": {
   "codemirror_mode": {
    "name": "ipython",
    "version": 3
   },
   "file_extension": ".py",
   "mimetype": "text/x-python",
   "name": "python",
   "nbconvert_exporter": "python",
   "pygments_lexer": "ipython3",
   "version": "3.10.4"
  }
 },
 "nbformat": 4,
 "nbformat_minor": 4
}
