{
  "nbformat": 4,
  "nbformat_minor": 0,
  "metadata": {
    "colab": {
      "provenance": []
    },
    "kernelspec": {
      "name": "python3",
      "display_name": "Python 3"
    },
    "language_info": {
      "name": "python"
    }
  },
  "cells": [
    {
      "cell_type": "code",
      "source": [
        "!pip install selenium\n",
        "!apt-get update\n",
        "!apt install chromium-chromedriver\n",
        "!cp /usr/lib/chromium-browser/chromedriver /usr/bin\n",
        "!pip install pyperclip"
      ],
      "metadata": {
        "id": "BSVT4SPq8fTK"
      },
      "execution_count": null,
      "outputs": []
    },
    {
      "cell_type": "code",
      "source": [
        "driver = webdriver.Chrome('/content/chromedriver.exe')\n",
        "\n",
        "##사용할 변수 선언\n",
        "#네이버 로그인 주소\n",
        "url = 'https://nid.naver.com/nidlogin.login?mode=form&url=https%3A%2F%2Fwww.naver.com'\n",
        "uid = '아이디'\n",
        "upw = '패스워드!'\n",
        "\n",
        "#네이버 로그인 페이지로 이동\n",
        "driver.get(url)\n",
        "time.sleep(2) #로딩 대기\n",
        "\n",
        "#아이디 입력폼\n",
        "tag_id = driver.find_element_by_name('id')\n",
        "#패스워드 입력폼\n",
        "tag_pw = driver.find_element_by_name('pw')\n",
        "\n",
        "# id 입력\n",
        "# 입력폼 클릭 -> paperclip에 선언한 uid 내용 복사 -> 붙여넣기\n",
        "tag_id.click()\n",
        "pyperclip.copy(uid)\n",
        "tag_id.send_keys(Keys.CONTROL, 'v')\n",
        "time.sleep(1)\n",
        "\n",
        "# pw 입력\n",
        "# 입력폼 클릭 -> paperclip에 선언한 upw 내용 복사 -> 붙여넣기\n",
        "tag_pw.click()\n",
        "pyperclip.copy(upw)\n",
        "tag_pw.send_keys(Keys.CONTROL, 'v')\n",
        "time.sleep(1)\n",
        "\n",
        "#로그인 버튼 클릭\n",
        "login_btn = driver.find_element_by_id('log.login')\n",
        "login_btn.click()\n",
        "time.sleep(2)"
      ],
      "metadata": {
        "id": "FQ3Xya0I8zCx"
      },
      "execution_count": null,
      "outputs": []
    },
    {
      "cell_type": "code",
      "source": [
        "from selenium import webdriver\n",
        "from selenium.webdriver.common.keys import Keys\n",
        "import time\n",
        "import pyperclip"
      ],
      "metadata": {
        "id": "jjch-_u088iI"
      },
      "execution_count": 76,
      "outputs": []
    },
    {
      "cell_type": "code",
      "execution_count": 1,
      "metadata": {
        "colab": {
          "base_uri": "https://localhost:8080/"
        },
        "id": "ex8kk3L7zsT-",
        "outputId": "447c8f4a-9eee-47b2-8a8e-7389c0334a6a"
      },
      "outputs": [
        {
          "output_type": "stream",
          "name": "stderr",
          "text": [
            "/usr/local/lib/python3.7/dist-packages/requests/__init__.py:91: RequestsDependencyWarning: urllib3 (1.26.13) or chardet (3.0.4) doesn't match a supported version!\n",
            "  RequestsDependencyWarning)\n"
          ]
        }
      ],
      "source": [
        "import requests\n",
        "from bs4 import BeautifulSoup\n",
        "import openpyxl\n",
        "import time\n",
        "import numpy"
      ]
    },
    {
      "cell_type": "code",
      "source": [
        "#액션장르\n",
        "#초반에 성인 웹툰이 있어서 테스트할 때 쓰세요\n",
        "#성인 웹툰 진입은 안돼요\n",
        "#성인 웹툰이 없는 스포츠 카테고리 같은 건 실행 다 됩니다\n",
        "wb = openpyxl.Workbook()\n",
        "sheet = wb.active\n",
        "sheet.append([\"제목\",\"완결여부\", \"평점\", \"작가\", \"업데이트 년도\", \"형식\", \"장르\", \"이용가\", \"별점참여수\", \"요약\"])\n",
        "\n",
        "raw = requests.get(\"https://comic.naver.com/webtoon/genre?view=list&order=User&genre=action\",\n",
        "                   headers = {\"User-Agent\" : \"Mozilla/5.0\"})\n",
        "html = BeautifulSoup(raw.text, 'html.parser')\n",
        "webtoons = html.select(\"tbody > tr\")\n",
        "\n",
        "for webtoon in webtoons:\n",
        "    title = webtoon.select_one(\"td:nth-of-type(1) a\")\n",
        "    url = title.attrs[\"href\"]\n",
        "    \n",
        "    ends = webtoon.select_one(\"td.subject > span\")\n",
        "\n",
        "    score = webtoon.select_one(\"div.rating_type > strong\").text\n",
        "    author = webtoon.select_one(\"td:nth-of-type(3) a\").text\n",
        "\n",
        "    date = webtoon.select_one(\"td.date\").text\n",
        "    date = date.replace('\\t', '')\n",
        "    date = date.replace('\\n', '')\n",
        "    date = date[0:4]\n",
        "\n",
        "    each_raw = requests.get(\"https://comic.naver.com\" + url,\n",
        "                            headers = {\"User-Agent\" : \"Mozilla/5.0\"})\n",
        "    each_html = BeautifulSoup(each_raw.text, 'html.parser')\n",
        "\n",
        "    genre = each_html.select_one(\"p.detail_info span.genre\").text\n",
        "    genre = genre.split(', ')\n",
        "\n",
        "    storysum = each_html.select_one(\"div.detail p\").text\n",
        "    age = each_html.select_one(\"span.age\").text\n",
        "\n",
        "\n",
        "    urls = each_html.select(\"td > a\")\n",
        "    avg_p =[]\n",
        "\n",
        "    for i in urls:\n",
        "        each_ep = i.attrs[\"href\"]\n",
        "        if each_ep[0] == 'h':\n",
        "          continue\n",
        "        epsode = requests.get(\"https://comic.naver.com\" + each_ep,\n",
        "                            headers = {\"User-Agent\" : \"Mozilla/5.0\"})\n",
        "        ep_html =  BeautifulSoup(epsode.text, 'html.parser')\n",
        "        ep = ep_html.select_one(\"span.pointTotalPerson > em\").text\n",
        "        ep = int(ep)\n",
        "        avg_p.append(ep)\n",
        "         \n",
        "\n",
        "    avg = numpy.mean(avg_p)\n",
        "\n",
        "    print(\"제목 :\"+title.text)\n",
        "    print(\"-\"*20)\n",
        "    if ends is not None:\n",
        "        print(\"완결여부 : 완결함\")\n",
        "    else:\n",
        "        print(\"완결여부 : 연재중\")\n",
        "    print(\"평점 :\"+ score)\n",
        "    print(\"작가 :\"+ author)\n",
        "    print(\"업데이트 년도 :\"+ date)\n",
        "    print(\"형식 :\"+ genre[0])\n",
        "    print(\"장르 :\"+ genre[1])\n",
        "    print(\"이용가 :\"+ age)\n",
        "    print(\"별점참여수 : \" +str(avg))\n",
        "    print(\"요약 :\"+storysum)\n",
        "    print(\"=\"*50)\n",
        "\n",
        "    sheet.append([title.text, float(score), author, date, genre[0], genre[1], age, avg, storysum])\n"
      ],
      "metadata": {
        "colab": {
          "base_uri": "https://localhost:8080/",
          "height": 1000
        },
        "id": "IKEMVN9A60C4",
        "outputId": "99f12fb1-4d39-4e51-a454-06b47ede4064"
      },
      "execution_count": 5,
      "outputs": [
        {
          "output_type": "stream",
          "name": "stdout",
          "text": [
            "제목 :김부장\n",
            "--------------------\n",
            "완결여부 : 연재중\n",
            "평점 :9.27\n",
            "작가 :박태준 만화회사 / 정종택\n",
            "업데이트 년도 :2022\n",
            "형식 :스토리\n",
            "장르 :액션\n",
            "이용가 :15세 이용가\n",
            "별점참여수 : 14135.3\n",
            "요약 :“제발 안경 쓴 아저씨는 건들지 말자…”오직 자신의 딸 '민지'를 위해 특수요원직을 관두고 평범함을 선택한 가장 김부장.그러던 어느 날 민지가 소리소문 없이 사라지고, 김부장은 자신을 감시하는 국가를 적으로 돌리면서까지 딸을 찾아나서기 시작하는데...[외모지상주의], [싸움독학] 그리고 [인생존망]의 세계관을 잇는 공식 스핀오프 작품!\n",
            "==================================================\n",
            "제목 :참교육\n",
            "--------------------\n",
            "완결여부 : 연재중\n",
            "평점 :9.86\n",
            "작가 :채용택 / 한가람\n",
            "업데이트 년도 :2022\n",
            "형식 :스토리\n",
            "장르 :액션\n",
            "이용가 :15세 이용가\n",
            "별점참여수 : 20368.6\n",
            "요약 :무너진 교권을 지키기 위해 교권보호국 소속 나화진의 참교육이 시작된다!<부활남> 채용택 작가 X <신석기녀> 한가람 작가의 신작!\n",
            "==================================================\n",
            "제목 :싸움독학\n",
            "--------------------\n",
            "완결여부 : 연재중\n",
            "평점 :9.71\n",
            "작가 :박태준 만화회사 / 김정현...\n",
            "업데이트 년도 :2022\n",
            "형식 :스토리\n",
            "장르 :액션\n",
            "이용가 :15세 이용가\n",
            "별점참여수 : 17309.7\n",
            "요약 :힘없고 가진거 하나 없이 맞고만 살던 나였는데...우연히 비밀의 뉴튜브를 발견하게 되고 갑자기 떼돈을 벌었다.\n",
            "==================================================\n",
            "제목 :약한영웅\n",
            "--------------------\n",
            "완결여부 : 연재중\n",
            "평점 :9.82\n",
            "작가 :서패스 / 김진석\n",
            "업데이트 년도 :2022\n",
            "형식 :에피소드\n",
            "장르 :액션\n",
            "이용가 :15세 이용가\n",
            "별점참여수 : 10924.4\n",
            "요약 :“비겁하다…? 애초에 동등한 시작이 아닌데... 체급도 쪽수도 안 맞잖아- 이 X끼들아!!”선천적으로 약한 소년이 상대보다 몇 수 앞을 예측하는 심리전과지형지물을 이용하고, 도구로 살벌하게 끝장내는 파이터로 성장한다.이제 그의 또 다른 이름은 '은장백사'다.\n",
            "==================================================\n"
          ]
        },
        {
          "output_type": "error",
          "ename": "AttributeError",
          "evalue": "ignored",
          "traceback": [
            "\u001b[0;31m---------------------------------------------------------------------------\u001b[0m",
            "\u001b[0;31mAttributeError\u001b[0m                            Traceback (most recent call last)",
            "\u001b[0;32m<ipython-input-5-4c64395fdb26>\u001b[0m in \u001b[0;36m<module>\u001b[0;34m\u001b[0m\n\u001b[1;32m     46\u001b[0m                             headers = {\"User-Agent\" : \"Mozilla/5.0\"})\n\u001b[1;32m     47\u001b[0m         \u001b[0mep_html\u001b[0m \u001b[0;34m=\u001b[0m  \u001b[0mBeautifulSoup\u001b[0m\u001b[0;34m(\u001b[0m\u001b[0mepsode\u001b[0m\u001b[0;34m.\u001b[0m\u001b[0mtext\u001b[0m\u001b[0;34m,\u001b[0m \u001b[0;34m'html.parser'\u001b[0m\u001b[0;34m)\u001b[0m\u001b[0;34m\u001b[0m\u001b[0;34m\u001b[0m\u001b[0m\n\u001b[0;32m---> 48\u001b[0;31m         \u001b[0mep\u001b[0m \u001b[0;34m=\u001b[0m \u001b[0mep_html\u001b[0m\u001b[0;34m.\u001b[0m\u001b[0mselect_one\u001b[0m\u001b[0;34m(\u001b[0m\u001b[0;34m\"span.pointTotalPerson > em\"\u001b[0m\u001b[0;34m)\u001b[0m\u001b[0;34m.\u001b[0m\u001b[0mtext\u001b[0m\u001b[0;34m\u001b[0m\u001b[0;34m\u001b[0m\u001b[0m\n\u001b[0m\u001b[1;32m     49\u001b[0m         \u001b[0mep\u001b[0m \u001b[0;34m=\u001b[0m \u001b[0mint\u001b[0m\u001b[0;34m(\u001b[0m\u001b[0mep\u001b[0m\u001b[0;34m)\u001b[0m\u001b[0;34m\u001b[0m\u001b[0;34m\u001b[0m\u001b[0m\n\u001b[1;32m     50\u001b[0m         \u001b[0mavg_p\u001b[0m\u001b[0;34m.\u001b[0m\u001b[0mappend\u001b[0m\u001b[0;34m(\u001b[0m\u001b[0mep\u001b[0m\u001b[0;34m)\u001b[0m\u001b[0;34m\u001b[0m\u001b[0;34m\u001b[0m\u001b[0m\n",
            "\u001b[0;31mAttributeError\u001b[0m: 'NoneType' object has no attribute 'text'"
          ]
        }
      ]
    },
    {
      "cell_type": "code",
      "source": [
        "from ast import keyword\n",
        "wb = openpyxl.Workbook()\n",
        "sheet = wb.active\n",
        "sheet.append([\"제목\", \"평점\", \"작가\", \"업데이트 년도\", \"형식\", \"장르\", \"이용가\", \"별점참여수\", \"요약\", \"조회순\"])\n",
        "\n",
        "raw = requests.get(\"https://comic.naver.com/webtoon/finish?view=list&order=ViewCount\",\n",
        "                   headers = {\"User-Agent\" : \"Mozilla/5.0\"})\n",
        "html = BeautifulSoup(raw.text, 'html.parser')\n",
        "webtoons = html.select(\"tbody > tr\")\n",
        "\n",
        "count = 1\n",
        "for webtoon in webtoons:\n",
        "  title = webtoon.select_one(\"td:nth-of-type(1) a\")\n",
        "  url = title.attrs[\"href\"]\n",
        "    \n",
        "  ends = webtoon.select_one(\"td.subject > span\")\n",
        "\n",
        "  score = webtoon.select_one(\"div.rating_type > strong\").text\n",
        "  author = webtoon.select_one(\"td:nth-of-type(3) a\").text\n",
        "\n",
        "  date = webtoon.select_one(\"td.date\").text\n",
        "  date = date.replace('\\t', '')\n",
        "  date = date.replace('\\n', '')\n",
        "  date = date[0:4]\n",
        "\n",
        "  each_raw = requests.get(\"https://comic.naver.com\" + url,\n",
        "                            headers = {\"User-Agent\" : \"Mozilla/5.0\"})\n",
        "  each_html = BeautifulSoup(each_raw.text, 'html.parser')\n",
        "\n",
        "  genre = each_html.select_one(\"p.detail_info span.genre\").text\n",
        "  genre = genre.split(', ')\n",
        "\n",
        "  storysum = each_html.select_one(\"div.detail p\").text\n",
        "  age = each_html.select_one(\"span.age\")\n",
        "  if age is None:\n",
        "    age = \"전체연령가\"\n",
        "  else:\n",
        "    age = age.text\n",
        "\n",
        "    urls = each_html.select(\"td > a\")\n",
        "    avg_p =[]\n",
        "    temp = 'start'\n",
        "    \n",
        "  \n",
        "  if age ==\"18세 이용가\"\n",
        "  #로그인 연동\n",
        "    for i in urls:\n",
        "        each_ep = i.attrs[\"href\"]\n",
        "        if each_ep[0] != '/' or each_ep == temp:\n",
        "          continue\n",
        "        print(each_ep)\n",
        "        epsode = requests.get(\"https://comic.naver.com\" + each_ep, jar=j,\n",
        "                            headers = {\"User-Agent\" : \"Mozilla/5.0\"})\n",
        "        ep_html =  BeautifulSoup(epsode.text, 'html.parser')\n",
        "        ep = ep_html.select_one(\"span.pointTotalPerson > em\").text\n",
        "        ep = int(ep)\n",
        "        avg_p.append(ep)\n",
        "        temp = each_ep\n",
        "  else:\n",
        "    for i in urls:\n",
        "        each_ep = i.attrs[\"href\"]\n",
        "        if each_ep[0] != '/' or each_ep == temp:\n",
        "          continue\n",
        "        print(each_ep)\n",
        "        epsode = requests.get(\"https://comic.naver.com\" + each_ep,\n",
        "                            headers = {\"User-Agent\" : \"Mozilla/5.0\"})\n",
        "        ep_html =  BeautifulSoup(epsode.text, 'html.parser')\n",
        "        ep = ep_html.select_one(\"span.pointTotalPerson > em\").text\n",
        "        ep = int(ep)\n",
        "        avg_p.append(ep)\n",
        "        temp = each_ep\n",
        "\n",
        "  print(\"제목 :\"+title.text)\n",
        "  print(\"-\"*20)\n",
        "  print(\"평점 :\"+ score)\n",
        "  print(\"작가 :\"+ author)\n",
        "  print(\"업데이트 년도 :\"+ date)\n",
        "  print(\"형식 :\"+ genre[0])\n",
        "  print(\"장르 :\"+ genre[1])\n",
        "  print(\"이용가 :\"+ age)\n",
        "  print(\"별점참여수 : \" +str(avg))\n",
        "  print(\"요약 :\"+storysum)\n",
        "  print(\"조회순 :\"+str(count))\n",
        "  print(\"=\"*50)\n",
        "\n",
        "  sheet.append([title.text, float(score), author, date, genre[0], genre[1], age, avg, storysum, count])\n",
        "  count += 1\n",
        "\n",
        "wb.save(\"NaverToonInfo.xlsx\")"
      ],
      "metadata": {
        "colab": {
          "base_uri": "https://localhost:8080/",
          "height": 136
        },
        "id": "GQJmrjZ7US4k",
        "outputId": "aa6d494c-9d13-4756-f462-1abb45b93e27"
      },
      "execution_count": 98,
      "outputs": [
        {
          "output_type": "error",
          "ename": "SyntaxError",
          "evalue": "ignored",
          "traceback": [
            "\u001b[0;36m  File \u001b[0;32m\"<ipython-input-98-d7e47574d0b5>\"\u001b[0;36m, line \u001b[0;32m56\u001b[0m\n\u001b[0;31m    else:\u001b[0m\n\u001b[0m       ^\u001b[0m\n\u001b[0;31mSyntaxError\u001b[0m\u001b[0;31m:\u001b[0m invalid syntax\n"
          ]
        }
      ]
    }
  ]
}